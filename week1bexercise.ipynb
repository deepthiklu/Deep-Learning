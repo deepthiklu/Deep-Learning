{
  "nbformat": 4,
  "nbformat_minor": 0,
  "metadata": {
    "colab": {
      "provenance": [],
      "include_colab_link": true
    },
    "kernelspec": {
      "name": "python3",
      "display_name": "Python 3"
    },
    "language_info": {
      "name": "python"
    }
  },
  "cells": [
    {
      "cell_type": "markdown",
      "metadata": {
        "id": "view-in-github",
        "colab_type": "text"
      },
      "source": [
        "<a href=\"https://colab.research.google.com/github/deepthiklu/Deep-Learning/blob/main/week1bexercise.ipynb\" target=\"_parent\"><img src=\"https://colab.research.google.com/assets/colab-badge.svg\" alt=\"Open In Colab\"/></a>"
      ]
    },
    {
      "cell_type": "code",
      "execution_count": null,
      "metadata": {
        "colab": {
          "base_uri": "https://localhost:8080/"
        },
        "id": "b5SFK7l7Uhx3",
        "outputId": "41bbdaec-174e-41c4-bccd-08ea3fdaae9b"
      },
      "outputs": [
        {
          "output_type": "stream",
          "name": "stdout",
          "text": [
            "OR Perceptron predictions:\n",
            "[0 0] --> 1\n",
            "[0 1] --> 1\n",
            "[1 0] --> 1\n",
            "[1 1] --> 1\n",
            "\n",
            "AND Perceptron predictions:\n",
            "[0 0] --> 0\n",
            "[0 1] --> 1\n",
            "[1 0] --> 1\n",
            "[1 1] --> 1\n",
            "\n",
            "XOR Perceptron predictions:\n",
            "[0 0] --> 0\n",
            "[0 1] --> 0\n",
            "[1 0] --> 0\n",
            "[1 1] --> 0\n"
          ]
        }
      ],
      "source": [
        "#User\n",
        "#b. Identify the problem with single unit Perceptron. Classify using Or-, And- and Xor-ed data and analysis the result.\n",
        "import numpy as np\n",
        "\n",
        "# Define activation function (step function)\n",
        "def step_function(x):\n",
        "    return 1 if x >= 0 else 0\n",
        "\n",
        "# Define single-unit perceptron\n",
        "class Perceptron:\n",
        "    def __init__(self, input_size):\n",
        "        self.weights = np.random.rand(input_size)\n",
        "        self.bias = np.random.rand()\n",
        "\n",
        "    def forward(self, inputs):\n",
        "        x = np.dot(inputs, self.weights) + self.bias\n",
        "        return step_function(x)\n",
        "\n",
        "# OR function data\n",
        "or_data = np.array([[0, 0], [0, 1], [1, 0], [1, 1]])\n",
        "or_labels = np.array([0, 1, 1, 1])\n",
        "\n",
        "# AND function data\n",
        "and_data = np.array([[0, 0], [0, 1], [1, 0], [1, 1]])\n",
        "and_labels = np.array([0, 0, 0, 1])\n",
        "\n",
        "# XOR function data\n",
        "xor_data = np.array([[0, 0], [0, 1], [1, 0], [1, 1]])\n",
        "xor_labels = np.array([0, 1, 1, 0])\n",
        "\n",
        "# Train perceptrons\n",
        "or_perceptron = Perceptron(2)\n",
        "and_perceptron = Perceptron(2)\n",
        "xor_perceptron = Perceptron(2)\n",
        "\n",
        "# Train OR perceptron\n",
        "for i in range(len(or_data)):\n",
        "    prediction = or_perceptron.forward(or_data[i])\n",
        "    error = or_labels[i] - prediction\n",
        "    or_perceptron.weights += error * or_data[i]\n",
        "    or_perceptron.bias += error\n",
        "\n",
        "# Train AND perceptron\n",
        "for i in range(len(and_data)):\n",
        "    prediction = and_perceptron.forward(and_data[i])\n",
        "    error = and_labels[i] - prediction\n",
        "    and_perceptron.weights += error * and_data[i]\n",
        "    and_perceptron.bias += error\n",
        "\n",
        "# Train XOR perceptron\n",
        "for i in range(len(xor_data)):\n",
        "    prediction = xor_perceptron.forward(xor_data[i])\n",
        "    error = xor_labels[i] - prediction\n",
        "    xor_perceptron.weights += error * xor_data[i]\n",
        "    xor_perceptron.bias += error\n",
        "\n",
        "# Test perceptrons\n",
        "print(\"OR Perceptron predictions:\")\n",
        "for i in range(len(or_data)):\n",
        "    print(or_data[i], \"-->\", or_perceptron.forward(or_data[i]))\n",
        "\n",
        "print(\"\\nAND Perceptron predictions:\")\n",
        "for i in range(len(and_data)):\n",
        "    print(and_data[i], \"-->\", and_perceptron.forward(and_data[i]))\n",
        "\n",
        "print(\"\\nXOR Perceptron predictions:\")\n",
        "for i in range(len(xor_data)):\n",
        "    print(xor_data[i], \"-->\", xor_perceptron.forward(xor_data[i]))\n"
      ]
    }
  ]
}